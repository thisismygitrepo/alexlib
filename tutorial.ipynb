{
 "cells": [
  {
   "cell_type": "markdown",
   "metadata": {},
   "source": [
    "# Welcome to alexlib Tutorial\n",
    "\n",
    "In the next 20 minutes, you're expected to master the use of this friendly library. As an outcome, it will save you hundreds of hours in the future, AND, your code will be irreducibly succinct.\n",
    "\n",
    "Intrigued? Let's get started\n",
    "\n",
    "First things first, let's ascertain that you have the latest version"
   ]
  },
  {
   "cell_type": "code",
   "execution_count": null,
   "metadata": {},
   "outputs": [],
   "source": [
    "!pip install --upgrade alexlib"
   ]
  },
  {
   "cell_type": "markdown",
   "metadata": {},
   "source": [
    "### Always begin your Python files with this import"
   ]
  },
  {
   "cell_type": "code",
   "execution_count": 1,
   "metadata": {},
   "outputs": [],
   "source": [
    "import alexlib.toolbox as tb"
   ]
  },
  {
   "cell_type": "markdown",
   "metadata": {},
   "source": [
    "# Overview\n",
    "\n",
    "You will be covering the following:\n",
    "    \n",
    "    1- The `P` module (for path).\n",
    "    2- The `L` module (for List).\n",
    "    3- Struct module (for Structure).\n"
   ]
  },
  {
   "cell_type": "markdown",
   "metadata": {},
   "source": [
    "### P Module\n",
    "\n",
    "As a user of Python, you must has experienced the inconvenience of path handling. So there is:\n",
    " * os module\n",
    " * glob module\n",
    " * sys module\n",
    " * shutil module\n",
    " * and lastly, pathlib.\n",
    " * There is probably more that I'm not aware of.\n",
    " \n",
    "Those are extremely verbose and they cost you a lot of time before they give you what you want.\n",
    " \n",
    "##### Solution:\n",
    " \n",
    " `P` Module elegantly solves this by converting mere **path strings** to **objects of type `P`**. The object by itself has *All* the necessary methods that could possibly be linked to it, therefore, no need for any other module to help getting things done.\n",
    " \n",
    " Let's give it a try: wrap any string with this module to instantiate a `P` object."
   ]
  },
  {
   "cell_type": "code",
   "execution_count": 14,
   "metadata": {},
   "outputs": [
    {
     "name": "stdout",
     "output_type": "stream",
     "text": [
      "folder/subfolder/subsubfolder/file.txt\n"
     ]
    }
   ],
   "source": [
    "h = tb.P(\"folder/subfolder/subsubfolder/file.txt\")\n",
    "print(h)"
   ]
  },
  {
   "cell_type": "markdown",
   "metadata": {},
   "source": [
    "Now, what can this `h` object offer to us?\n",
    "\n",
    "Let's see some of its powers. Firstly, let's look at indexing.\n",
    "\n",
    "Question:\n",
    "* Doesn't just make sense that `h[0] = \"folder\"` ? "
   ]
  },
  {
   "cell_type": "code",
   "execution_count": 15,
   "metadata": {},
   "outputs": [
    {
     "data": {
      "text/plain": [
       "AlexPath(folder)"
      ]
     },
     "execution_count": 15,
     "metadata": {},
     "output_type": "execute_result"
    }
   ],
   "source": [
    "h[0]  # Do you know that the old un-elegant way is: h.parent.parent.parent.parent.parent.parent ?"
   ]
  },
  {
   "cell_type": "code",
   "execution_count": 16,
   "metadata": {},
   "outputs": [
    {
     "data": {
      "text/plain": [
       "AlexPath(file.txt)"
      ]
     },
     "execution_count": 16,
     "metadata": {},
     "output_type": "execute_result"
    }
   ],
   "source": [
    "h[-1]  "
   ]
  },
  {
   "cell_type": "code",
   "execution_count": 17,
   "metadata": {},
   "outputs": [
    {
     "data": {
      "text/plain": [
       "AlexPath(subsubfolder/file.txt)"
      ]
     },
     "execution_count": 17,
     "metadata": {},
     "output_type": "execute_result"
    }
   ],
   "source": [
    "h[2:]  # slicing!"
   ]
  },
  {
   "cell_type": "code",
   "execution_count": 18,
   "metadata": {},
   "outputs": [
    {
     "data": {
      "text/plain": [
       "AlexPath(folder/file.txt)"
      ]
     },
     "execution_count": 18,
     "metadata": {},
     "output_type": "execute_result"
    }
   ],
   "source": [
    "h[[0, -1]]  # You did not see that coming ! fancy indexing!"
   ]
  },
  {
   "cell_type": "code",
   "execution_count": 19,
   "metadata": {},
   "outputs": [
    {
     "name": "stdout",
     "output_type": "stream",
     "text": [
      "folder/subfolder/haha/file.txt\n"
     ]
    }
   ],
   "source": [
    "r = h.setitem(2, \"haha\")  # this is incredibly powerful\n",
    "print(r)\n",
    "\n",
    "# TODO: we aim to make it like this:\n",
    "# h[2] = \"haha\""
   ]
  },
  {
   "cell_type": "code",
   "execution_count": 20,
   "metadata": {},
   "outputs": [
    {
     "data": {
      "text/plain": [
       "(AlexPath(folder/subfolder), AlexPath(subsubfolder/file.txt))"
      ]
     },
     "execution_count": 20,
     "metadata": {},
     "output_type": "execute_result"
    }
   ],
   "source": [
    "h.split(index=2)  # split by index"
   ]
  },
  {
   "cell_type": "code",
   "execution_count": 21,
   "metadata": {},
   "outputs": [
    {
     "data": {
      "text/plain": [
       "(AlexPath(folder), AlexPath(subfolder/subsubfolder/file.txt))"
      ]
     },
     "execution_count": 21,
     "metadata": {},
     "output_type": "execute_result"
    }
   ],
   "source": [
    "h.split(at=\"subfolder\")  # split by directory name"
   ]
  },
  {
   "cell_type": "markdown",
   "metadata": {},
   "source": [
    "But wait, this path, doesn't even exist!!\n",
    "okay, let's create it\n"
   ]
  },
  {
   "cell_type": "code",
   "execution_count": 22,
   "metadata": {},
   "outputs": [
    {
     "name": "stdout",
     "output_type": "stream",
     "text": [
      "True\n"
     ]
    }
   ],
   "source": [
    "h.create()\n",
    "print(h.exists())"
   ]
  },
  {
   "cell_type": "markdown",
   "metadata": {},
   "source": [
    "If you like the good old methods that provide you with saveguards and checks when creating, then, they're all there. \n",
    "\n",
    "```\n",
    "When developed, the library **never** overrides a method that was shipped with `pathlib.Path`\n",
    "```\n"
   ]
  },
  {
   "cell_type": "code",
   "execution_count": 23,
   "metadata": {},
   "outputs": [
    {
     "ename": "FileExistsError",
     "evalue": "[Errno 17] File exists: 'folder/subfolder/subsubfolder/file.txt'",
     "output_type": "error",
     "traceback": [
      "\u001b[0;31m---------------------------------------------------------------------------\u001b[0m",
      "\u001b[0;31mFileExistsError\u001b[0m                           Traceback (most recent call last)",
      "\u001b[0;32m<ipython-input-23-d08acdec7b0a>\u001b[0m in \u001b[0;36m<module>\u001b[0;34m\u001b[0m\n\u001b[0;32m----> 1\u001b[0;31m \u001b[0mh\u001b[0m\u001b[0;34m.\u001b[0m\u001b[0mmkdir\u001b[0m\u001b[0;34m(\u001b[0m\u001b[0;34m)\u001b[0m\u001b[0;34m\u001b[0m\u001b[0;34m\u001b[0m\u001b[0m\n\u001b[0m",
      "\u001b[0;32m~/anaconda3/envs/myenv/lib/python3.8/pathlib.py\u001b[0m in \u001b[0;36mmkdir\u001b[0;34m(self, mode, parents, exist_ok)\u001b[0m\n\u001b[1;32m   1282\u001b[0m             \u001b[0mself\u001b[0m\u001b[0;34m.\u001b[0m\u001b[0m_raise_closed\u001b[0m\u001b[0;34m(\u001b[0m\u001b[0;34m)\u001b[0m\u001b[0;34m\u001b[0m\u001b[0;34m\u001b[0m\u001b[0m\n\u001b[1;32m   1283\u001b[0m         \u001b[0;32mtry\u001b[0m\u001b[0;34m:\u001b[0m\u001b[0;34m\u001b[0m\u001b[0;34m\u001b[0m\u001b[0m\n\u001b[0;32m-> 1284\u001b[0;31m             \u001b[0mself\u001b[0m\u001b[0;34m.\u001b[0m\u001b[0m_accessor\u001b[0m\u001b[0;34m.\u001b[0m\u001b[0mmkdir\u001b[0m\u001b[0;34m(\u001b[0m\u001b[0mself\u001b[0m\u001b[0;34m,\u001b[0m \u001b[0mmode\u001b[0m\u001b[0;34m)\u001b[0m\u001b[0;34m\u001b[0m\u001b[0;34m\u001b[0m\u001b[0m\n\u001b[0m\u001b[1;32m   1285\u001b[0m         \u001b[0;32mexcept\u001b[0m \u001b[0mFileNotFoundError\u001b[0m\u001b[0;34m:\u001b[0m\u001b[0;34m\u001b[0m\u001b[0;34m\u001b[0m\u001b[0m\n\u001b[1;32m   1286\u001b[0m             \u001b[0;32mif\u001b[0m \u001b[0;32mnot\u001b[0m \u001b[0mparents\u001b[0m \u001b[0;32mor\u001b[0m \u001b[0mself\u001b[0m\u001b[0;34m.\u001b[0m\u001b[0mparent\u001b[0m \u001b[0;34m==\u001b[0m \u001b[0mself\u001b[0m\u001b[0;34m:\u001b[0m\u001b[0;34m\u001b[0m\u001b[0;34m\u001b[0m\u001b[0m\n",
      "\u001b[0;31mFileExistsError\u001b[0m: [Errno 17] File exists: 'folder/subfolder/subsubfolder/file.txt'"
     ]
    }
   ],
   "source": [
    "h.mkdir()"
   ]
  },
  {
   "cell_type": "markdown",
   "metadata": {},
   "source": [
    "Do you like that error above? There you go. Thats the good old `mkdir`"
   ]
  },
  {
   "cell_type": "markdown",
   "metadata": {},
   "source": [
    "In a similar fashion you will find the following:\n",
    "\n",
    "* `delete` will give easy time compared to the existing `unlink` and `rmdir` and other methods.\n",
    "  This will simply **delete**, no matter what, is it a folder? is it a file? is it empty if it is a folder?\n",
    "    don't worry about anything. Just delete\n",
    "    \n",
    "    * There is also `send2trash` from the famouse `move2trash` which sends files to recycle bin.\n",
    "        \n",
    "* `create` is an easy way to do `mkdir` doesn't compain about existence and always creates the childers and parents required.\n",
    "\n",
    "* `search` is an powerful and easy form of `glob` which still exists."
   ]
  },
  {
   "cell_type": "markdown",
   "metadata": {},
   "source": [
    "If you're used to `glob`, it is available as a method, otherwise you can see the `search` method. It takes some time to learn what it does, so we content ourselves here by just inspecting its docstring"
   ]
  },
  {
   "cell_type": "code",
   "execution_count": 31,
   "metadata": {},
   "outputs": [],
   "source": [
    "? tb.P.search"
   ]
  },
  {
   "cell_type": "code",
   "execution_count": 29,
   "metadata": {},
   "outputs": [
    {
     "name": "stdout",
     "output_type": "stream",
     "text": [
      "folder/subfolder/subsubfolder/file_new\n"
     ]
    }
   ],
   "source": [
    "## Overloading operations \n",
    "# plus symbol:\n",
    "print(h + \"_new\")\n",
    "\n"
   ]
  },
  {
   "cell_type": "code",
   "execution_count": 25,
   "metadata": {},
   "outputs": [
    {
     "data": {
      "text/plain": [
       "AlexPath(folder/subfolder/subsubfolder/file.txt/haha)"
      ]
     },
     "execution_count": 25,
     "metadata": {},
     "output_type": "execute_result"
    }
   ],
   "source": [
    "# Forward slash OPERATOR:\n",
    "r = h / \"haha\"\n",
    "# Note: this is not the same as the stupid \"/\" concatenation which is platform-dependent\n",
    "r = h + \"/\" + \"haha\"\n",
    "# it is actually the same as \n",
    "h.joinpath(\"haha\")"
   ]
  },
  {
   "cell_type": "code",
   "execution_count": 26,
   "metadata": {},
   "outputs": [
    {
     "name": "stdout",
     "output_type": "stream",
     "text": [
      "folder/subfolder/subsubfolder/this_is_a_prefix_file.txt\n",
      "folder/subfolder/subsubfolder/file__this_come_after_name_but_before_suffix.txt\n"
     ]
    }
   ],
   "source": [
    "# Now look at those nifty 2 method\n",
    "print(h.prepend(\"this_is_a_prefix_\"))\n",
    "print(h.append(\"_this_come_after_name_but_before_suffix\"))\n",
    "# Incredibly useful when creating a variant of an existing file."
   ]
  },
  {
   "cell_type": "code",
   "execution_count": null,
   "metadata": {},
   "outputs": [],
   "source": []
  },
  {
   "cell_type": "markdown",
   "metadata": {},
   "source": [
    "### Conclusion \n",
    "\n",
    "Have a looksee at the full list of metods:\n",
    "Basically you have comprehensive set of methods to do any of:\n",
    "\n",
    "* Path manipulation.\n",
    "* Searching directories.\n",
    "* Getting files and folders specs, e.g. size and time etc.\n",
    "* File manangement capabilities, e.g. delete, copy, compression of files and folders with one line, to anywhere.\n",
    "\n",
    "Spend the next 30 seconds to inspect the names of the methods, and they will spring to your mind whenever you need them later. Always remember that there is a method to do what you want in one line. If not, and you think it worth a method, please suggest it on Github.\n",
    "\n",
    "#### NOTE: if there are any classes that do not understand this Path object, then you can easily convert back to the string with ``str(h)`` or ``h.string`` when needed, on the fly."
   ]
  },
  {
   "cell_type": "code",
   "execution_count": 7,
   "metadata": {},
   "outputs": [
    {
     "data": {
      "text/plain": [
       "['_accessor',\n",
       " '_cached_cparts',\n",
       " '_closed',\n",
       " '_cparts',\n",
       " '_drv',\n",
       " '_flavour',\n",
       " '_format_parsed_parts',\n",
       " '_from_parsed_parts',\n",
       " '_from_parts',\n",
       " '_hash',\n",
       " '_init',\n",
       " '_make_child',\n",
       " '_make_child_relpath',\n",
       " '_opener',\n",
       " '_parse_args',\n",
       " '_parts',\n",
       " '_pparts',\n",
       " '_raise_closed',\n",
       " '_raw_open',\n",
       " '_root',\n",
       " '_str',\n",
       " 'absolute',\n",
       " 'absolute_from',\n",
       " 'anchor',\n",
       " 'append',\n",
       " 'as_posix',\n",
       " 'as_unix',\n",
       " 'as_uri',\n",
       " 'browse',\n",
       " 'chmod',\n",
       " 'clean',\n",
       " 'compress',\n",
       " 'copy',\n",
       " 'create',\n",
       " 'cwd',\n",
       " 'decompress',\n",
       " 'delete',\n",
       " 'drive',\n",
       " 'evalstr',\n",
       " 'exists',\n",
       " 'expanduser',\n",
       " 'explore',\n",
       " 'find',\n",
       " 'from_saved',\n",
       " 'get_attributes',\n",
       " 'get_num',\n",
       " 'get_random_string',\n",
       " 'glob',\n",
       " 'group',\n",
       " 'home',\n",
       " 'is_absolute',\n",
       " 'is_block_device',\n",
       " 'is_char_device',\n",
       " 'is_dir',\n",
       " 'is_fifo',\n",
       " 'is_file',\n",
       " 'is_mount',\n",
       " 'is_reserved',\n",
       " 'is_socket',\n",
       " 'is_symlink',\n",
       " 'iterdir',\n",
       " 'joinpath',\n",
       " 'lchmod',\n",
       " 'len',\n",
       " 'link_to',\n",
       " 'listdir',\n",
       " 'lstat',\n",
       " 'make_valid_filename',\n",
       " 'make_valid_filename_',\n",
       " 'match',\n",
       " 'mkdir',\n",
       " 'move',\n",
       " 'name',\n",
       " 'open',\n",
       " 'owner',\n",
       " 'parent',\n",
       " 'parents',\n",
       " 'parts',\n",
       " 'prepend',\n",
       " 'read_bytes',\n",
       " 'read_text',\n",
       " 'readit',\n",
       " 'relative_to',\n",
       " 'rename',\n",
       " 'renameit',\n",
       " 'replace',\n",
       " 'resolve',\n",
       " 'rglob',\n",
       " 'rmdir',\n",
       " 'root',\n",
       " 'samefile',\n",
       " 'save_json',\n",
       " 'save_mat',\n",
       " 'save_npy',\n",
       " 'save_pickle',\n",
       " 'search',\n",
       " 'send2trash',\n",
       " 'setitem',\n",
       " 'size',\n",
       " 'split',\n",
       " 'stat',\n",
       " 'stem',\n",
       " 'string',\n",
       " 'suffix',\n",
       " 'suffixes',\n",
       " 'symlink_to',\n",
       " 'time',\n",
       " 'tmp',\n",
       " 'touch',\n",
       " 'trunk',\n",
       " 'unlink',\n",
       " 'unzip',\n",
       " 'with_name',\n",
       " 'with_suffix',\n",
       " 'write_bytes',\n",
       " 'write_text',\n",
       " 'zip']"
      ]
     },
     "execution_count": 7,
     "metadata": {},
     "output_type": "execute_result"
    }
   ],
   "source": [
    "h.get_attributes()"
   ]
  },
  {
   "cell_type": "markdown",
   "metadata": {},
   "source": [
    "Last but not least, there is: `tb.P.tmp` and its alias `tb.tmp`, an exredibly useful thingy to store temporary files conveniently outside your current coding directory. It creates a folder called `tmp_results` in your home directory. so you can put your results and files there temprarily."
   ]
  },
  {
   "cell_type": "code",
   "execution_count": 9,
   "metadata": {},
   "outputs": [
    {
     "name": "stdout",
     "output_type": "stream",
     "text": [
      "/home/alex/tmp_results\n"
     ]
    }
   ],
   "source": [
    "print(tb.tmp())"
   ]
  },
  {
   "cell_type": "code",
   "execution_count": 10,
   "metadata": {},
   "outputs": [
    {
     "data": {
      "text/plain": [
       "43"
      ]
     },
     "execution_count": 10,
     "metadata": {},
     "output_type": "execute_result"
    }
   ],
   "source": [
    "string = \"This is a string to be saved in a text file\"\n",
    "\n",
    "(tb.tmp() / \"txtfile.txt\").write_text(string)"
   ]
  },
  {
   "cell_type": "markdown",
   "metadata": {},
   "source": [
    "Now let's inspect this directory with our computer file explorer.\n",
    "\n",
    "Did you see the file?"
   ]
  },
  {
   "cell_type": "code",
   "execution_count": 11,
   "metadata": {},
   "outputs": [],
   "source": [
    "tb.tmp().explore()"
   ]
  },
  {
   "cell_type": "code",
   "execution_count": null,
   "metadata": {},
   "outputs": [],
   "source": []
  },
  {
   "cell_type": "code",
   "execution_count": null,
   "metadata": {},
   "outputs": [],
   "source": []
  },
  {
   "cell_type": "markdown",
   "metadata": {},
   "source": [
    "# The Struct Module\n",
    "\n",
    "This offers a very convenient way to keep bits and sundry items in a little box with easy to use synatx. More specifically, it extends dict such that it enables accessing items using both dot notation and keys.\n",
    "\n",
    "Let's give it a try:"
   ]
  },
  {
   "cell_type": "code",
   "execution_count": 27,
   "metadata": {},
   "outputs": [
    {
     "data": {
      "text/plain": [
       "True"
      ]
     },
     "execution_count": 27,
     "metadata": {},
     "output_type": "execute_result"
    }
   ],
   "source": [
    "x = tb.Struct(a=2, b=3)  \n",
    "\n",
    "x.a == x['a']"
   ]
  },
  {
   "cell_type": "markdown",
   "metadata": {},
   "source": [
    "## Save Methods\n",
    "\n",
    "You know what? I want to save this little \"dictionary\", so let's do that"
   ]
  },
  {
   "cell_type": "code",
   "execution_count": 28,
   "metadata": {},
   "outputs": [
    {
     "data": {
      "text/plain": [
       "Structure, with following keys:\n",
       "a, b, "
      ]
     },
     "execution_count": 28,
     "metadata": {},
     "output_type": "execute_result"
    }
   ],
   "source": [
    "x.save_json(tb.tmp() / \"my_config.json\")"
   ]
  },
  {
   "cell_type": "markdown",
   "metadata": {},
   "source": [
    "Guess what? there's more:\n",
    "\n",
    "* ``save_json``  Excellent for Config files as it provides human readable format.\n",
    "* ``save_npy``  Excellent for numerical data.\n",
    "* ``save_pickle``  # Generic.\n",
    "* ``save_mat``  # For passing data to Matlab animals.\n",
    "\n",
    "Guess what?\n",
    "\n",
    "These methods are available for all classes, `List`, `Struct` and even `P`. What's more? Well, you can equip all of your own **existing** classes with these capabilities by simply adding to the thier inheritance one word ``tb.Base``.\n",
    "\n",
    "Later, to load up anything, you run the class method `from_saved` from any class and pass the path."
   ]
  },
  {
   "cell_type": "markdown",
   "metadata": {},
   "source": [
    "Do you miss the dict? or do you have a class that only understand dict objects?\n",
    "You can convert back to dict on the fly with `x.dict` `x.__dict__`"
   ]
  },
  {
   "cell_type": "code",
   "execution_count": 32,
   "metadata": {},
   "outputs": [
    {
     "data": {
      "text/plain": [
       "{'a': 2, 'b': 3}"
      ]
     },
     "execution_count": 32,
     "metadata": {},
     "output_type": "execute_result"
    }
   ],
   "source": [
    "x.dict"
   ]
  },
  {
   "cell_type": "markdown",
   "metadata": {},
   "source": [
    "# The List Module\n",
    "\n",
    "``tb.List`` or its alias `tb.L` offer a class with a single field called `list`, which is a Python `list`. The class gives and enhanced Javascript functionality of `toEach` method of arrays.\n",
    "\n",
    "Use this class whenever you have objects of the same type and you want to containerize them."
   ]
  },
  {
   "cell_type": "code",
   "execution_count": 33,
   "metadata": {},
   "outputs": [],
   "source": [
    "a = tb.L([1, 2., 3.2])"
   ]
  },
  {
   "cell_type": "code",
   "execution_count": 34,
   "metadata": {},
   "outputs": [
    {
     "data": {
      "text/plain": [
       "AlexList object with the following elements: \n",
       "1\n",
       "2.0\n",
       "3.2"
      ]
     },
     "execution_count": 34,
     "metadata": {},
     "output_type": "execute_result"
    }
   ],
   "source": [
    "a"
   ]
  },
  {
   "cell_type": "markdown",
   "metadata": {},
   "source": [
    "##### let's do some implicit for loops"
   ]
  },
  {
   "cell_type": "code",
   "execution_count": 36,
   "metadata": {},
   "outputs": [
    {
     "data": {
      "text/plain": [
       "AlexList object with the following elements: \n",
       "1\n",
       "2\n",
       "3"
      ]
     },
     "execution_count": 36,
     "metadata": {},
     "output_type": "execute_result"
    }
   ],
   "source": [
    "a.apply(int)"
   ]
  },
  {
   "cell_type": "markdown",
   "metadata": {},
   "source": [
    "### Let's do some heavy lifting...\n",
    "Did you know that: search results returned by `P` object are more `P` objects containerized in `List` object?\n",
    "\n",
    "\n",
    "The is too much power! `L` and `P` are working together!!"
   ]
  },
  {
   "cell_type": "code",
   "execution_count": 43,
   "metadata": {},
   "outputs": [
    {
     "name": "stdout",
     "output_type": "stream",
     "text": [
      "<class 'alexlib.toolbox.List'>\n"
     ]
    }
   ],
   "source": [
    "results = tb.P.home().search(\"*\")\n",
    "print(type(results))  # it is a `List` Object!"
   ]
  },
  {
   "cell_type": "code",
   "execution_count": 44,
   "metadata": {},
   "outputs": [
    {
     "name": "stdout",
     "output_type": "stream",
     "text": [
      " 0- AlexPath(/home/alex/WebstormProjects) \n",
      " 1- AlexPath(/home/alex/Desktop) \n",
      " 2- AlexPath(/home/alex/my_crogl) \n",
      " 3- AlexPath(/home/alex/my_g_drive) \n",
      " 4- AlexPath(/home/alex/MATLAB Add-Ons) \n",
      " 5- AlexPath(/home/alex/Videos) \n",
      " 6- AlexPath(/home/alex/Documents) \n",
      " 7- AlexPath(/home/alex/appimages) \n",
      " 8- AlexPath(/home/alex/my_data) \n",
      " 9- AlexPath(/home/alex/NVIDIA_CUDA-10.1_Samples) \n",
      "10- AlexPath(/home/alex/Templates) \n",
      "11- AlexPath(/home/alex/Music) \n",
      "12- AlexPath(/home/alex/Public) \n",
      "13- AlexPath(/home/alex/PycharmProjects) \n",
      "14- AlexPath(/home/alex/code) \n",
      "15- AlexPath(/home/alex/Resources) \n",
      "16- AlexPath(/home/alex/Pictures) \n",
      "17- AlexPath(/home/alex/cst-gpu-info.log) \n",
      "18- AlexPath(/home/alex/tmp_results) \n",
      "19- AlexPath(/home/alex/anaconda3) \n",
      "20- AlexPath(/home/alex/OneDrive) \n",
      "21- AlexPath(/home/alex/Downloads) \n"
     ]
    }
   ],
   "source": [
    "results.print()  # nice print function if you did not like the __repr__ method which is very succinct."
   ]
  },
  {
   "cell_type": "code",
   "execution_count": 49,
   "metadata": {},
   "outputs": [
    {
     "data": {
      "text/plain": [
       "AlexList object with the following elements: \n",
       "datetime.datetime(2021, 1, 1, 5, 13, 7, 395025)\n",
       "datetime.datetime(2021, 1, 7, 13, 18, 13, 716649)\n",
       "datetime.datetime(2020, 11, 13, 1, 23, 22)\n",
       "datetime.datetime(2021, 1, 3, 18, 21, 22, 218903)\n",
       "datetime.datetime(2021, 1, 5, 11, 8, 43, 807827)\n",
       "datetime.datetime(2020, 12, 8, 12, 39, 8, 307106)\n",
       "datetime.datetime(2020, 12, 15, 8, 32, 17, 507598)\n",
       "datetime.datetime(2021, 1, 7, 7, 29, 29, 577049)\n",
       "datetime.datetime(2021, 1, 7, 19, 19, 47, 803969)\n",
       "datetime.datetime(2020, 12, 10, 7, 52, 19, 764157)\n",
       "datetime.datetime(2020, 12, 8, 12, 39, 8, 307106)\n",
       "datetime.datetime(2020, 12, 8, 12, 39, 8, 307106)\n",
       "datetime.datetime(2020, 12, 8, 12, 39, 8, 307106)\n",
       "datetime.datetime(2020, 12, 24, 9, 8, 51, 867937)\n",
       "datetime.datetime(2021, 1, 5, 9, 52, 26, 539340)\n",
       "datetime.datetime(2020, 12, 11, 7, 18, 40, 143226)\n",
       "datetime.datetime(2020, 12, 8, 12, 39, 8, 307106)\n",
       "datetime.datetime(2021, 1, 7, 7, 43, 27, 292896)\n",
       "datetime.datetime(2021, 1, 7, 20, 16, 38, 495996)\n",
       "datetime.datetime(2020, 12, 8, 13, 16, 44, 350163)\n",
       "datetime.datetime(2021, 1, 2, 12, 50, 21, 514946)\n",
       "datetime.datetime(2021, 1, 7, 12, 20, 11, 732397)"
      ]
     },
     "execution_count": 49,
     "metadata": {},
     "output_type": "execute_result"
    }
   ],
   "source": [
    "results.time()"
   ]
  },
  {
   "cell_type": "markdown",
   "metadata": {},
   "source": [
    "What the? How did that happen?\n",
    "\n",
    "`time` is a method of `P` that tells what time the file was created.\n",
    "\n",
    "However, the method was run against a `List` object, but this internally called in a for loop over the individual items.\n",
    "\n"
   ]
  },
  {
   "cell_type": "code",
   "execution_count": null,
   "metadata": {},
   "outputs": [],
   "source": []
  }
 ],
 "metadata": {
  "kernelspec": {
   "display_name": "Python 3",
   "language": "python",
   "name": "python3"
  },
  "language_info": {
   "codemirror_mode": {
    "name": "ipython",
    "version": 3
   },
   "file_extension": ".py",
   "mimetype": "text/x-python",
   "name": "python",
   "nbconvert_exporter": "python",
   "pygments_lexer": "ipython3",
   "version": "3.8.5"
  }
 },
 "nbformat": 4,
 "nbformat_minor": 4
}
