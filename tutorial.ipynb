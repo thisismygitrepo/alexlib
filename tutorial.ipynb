{
 "cells": [
  {
   "cell_type": "markdown",
   "metadata": {},
   "source": [
    "# Welcome to alexlib Tutorial\n",
    "\n",
    "In the next 20 minutes, you're expexted to master this fiendly library. As an outcome, it will save you hundreds of hours in the future, AND, your code will be irreducibly succinct.\n",
    "\n",
    "Intrigued? Let's get started\n",
    "\n",
    "First things first, let's ascertain that you have the latest version"
   ]
  },
  {
   "cell_type": "code",
   "execution_count": null,
   "metadata": {},
   "outputs": [],
   "source": [
    "!pip install --upgrade alexlib"
   ]
  },
  {
   "cell_type": "markdown",
   "metadata": {},
   "source": [
    "### Always begin your Python files with this import"
   ]
  },
  {
   "cell_type": "code",
   "execution_count": 2,
   "metadata": {},
   "outputs": [],
   "source": [
    "import alexlib.toolbox as tb"
   ]
  },
  {
   "cell_type": "markdown",
   "metadata": {},
   "source": [
    "# Overview\n",
    "\n",
    "You will be covering the following:\n",
    "    \n",
    "    1- The `P` module (for path).\n",
    "    2- The `L` module (for List).\n",
    "    3- Struct module (for Structure).\n"
   ]
  },
  {
   "cell_type": "markdown",
   "metadata": {},
   "source": [
    "### P Module\n",
    "\n",
    "As a user of Python, you must has experienced the inconvenience of path handling. So there is:\n",
    " * os module\n",
    " * glob module\n",
    " * sys module\n",
    " * shutil module\n",
    " * and lastly, pathlib\n",
    " There are probably more that I'm not aware of.\n",
    " \n",
    "Those are extremely verbose and they cost you a lot of time before they give you what you want.\n",
    " \n",
    "##### Solution:\n",
    " \n",
    " `P` Module solves this by converting mere path strings in objects of type `P`. An object by itself has *All*\n",
    " the necessary methods that could possibly be linked to it, therefore, no need for any other module to help getting things done.\n",
    " \n",
    " Let's give it a try: wrap any string with this module to instantiate a `P` object."
   ]
  },
  {
   "cell_type": "code",
   "execution_count": 3,
   "metadata": {},
   "outputs": [
    {
     "name": "stdout",
     "output_type": "stream",
     "text": [
      "folder/subfolder/subsubfolder/file.txt\n"
     ]
    }
   ],
   "source": [
    "h = tb.P(\"folder/subfolder/subsubfolder/file.txt\")\n",
    "print(h)"
   ]
  },
  {
   "cell_type": "markdown",
   "metadata": {},
   "source": [
    "Now, what can this `h` object offer to us?\n",
    "\n",
    "Let's see some of its powers. Firstly, let's look at indexing.\n",
    "* Doesn't just make sense that `h[0] = folder` ? "
   ]
  },
  {
   "cell_type": "code",
   "execution_count": 10,
   "metadata": {},
   "outputs": [
    {
     "data": {
      "text/plain": [
       "AlexPath(folder)"
      ]
     },
     "execution_count": 10,
     "metadata": {},
     "output_type": "execute_result"
    }
   ],
   "source": [
    "h[0]"
   ]
  },
  {
   "cell_type": "code",
   "execution_count": 11,
   "metadata": {},
   "outputs": [
    {
     "data": {
      "text/plain": [
       "AlexPath(file.txt)"
      ]
     },
     "execution_count": 11,
     "metadata": {},
     "output_type": "execute_result"
    }
   ],
   "source": [
    "h[-1]"
   ]
  },
  {
   "cell_type": "code",
   "execution_count": 13,
   "metadata": {},
   "outputs": [
    {
     "data": {
      "text/plain": [
       "AlexPath(subsubfolder/file.txt)"
      ]
     },
     "execution_count": 13,
     "metadata": {},
     "output_type": "execute_result"
    }
   ],
   "source": [
    "h[2:]  # slicing!"
   ]
  },
  {
   "cell_type": "code",
   "execution_count": 17,
   "metadata": {},
   "outputs": [
    {
     "data": {
      "text/plain": [
       "AlexPath(folder/file.txt)"
      ]
     },
     "execution_count": 17,
     "metadata": {},
     "output_type": "execute_result"
    }
   ],
   "source": [
    "h[[0, -1]]  # You did not see that coming ! fancy indexing!"
   ]
  },
  {
   "cell_type": "code",
   "execution_count": 47,
   "metadata": {},
   "outputs": [
    {
     "name": "stdout",
     "output_type": "stream",
     "text": [
      "folder/subfolder/haha/file.txt\n"
     ]
    }
   ],
   "source": [
    "r = h.setitem(2, \"haha\")  # this is incredibly powerful\n",
    "print(r)\n",
    "\n",
    "# TODO: we aim to make it like this:\n",
    "# h[2] = \"haha\""
   ]
  },
  {
   "cell_type": "code",
   "execution_count": 20,
   "metadata": {},
   "outputs": [
    {
     "data": {
      "text/plain": [
       "(AlexPath(folder/subfolder), AlexPath(subsubfolder/file.txt))"
      ]
     },
     "execution_count": 20,
     "metadata": {},
     "output_type": "execute_result"
    }
   ],
   "source": [
    "h.split(index=2)  # split by index"
   ]
  },
  {
   "cell_type": "code",
   "execution_count": 22,
   "metadata": {},
   "outputs": [
    {
     "data": {
      "text/plain": [
       "(AlexPath(folder), AlexPath(subfolder/subsubfolder/file.txt))"
      ]
     },
     "execution_count": 22,
     "metadata": {},
     "output_type": "execute_result"
    }
   ],
   "source": [
    "h.split(at=\"subfolder\")  # split by directory name"
   ]
  },
  {
   "cell_type": "markdown",
   "metadata": {},
   "source": [
    "But wait, this path, doesn't even exist!!\n",
    "okay, let's create it\n"
   ]
  },
  {
   "cell_type": "code",
   "execution_count": 27,
   "metadata": {},
   "outputs": [
    {
     "name": "stdout",
     "output_type": "stream",
     "text": [
      "True\n"
     ]
    }
   ],
   "source": [
    "h.create()\n",
    "print(h.exists())"
   ]
  },
  {
   "cell_type": "markdown",
   "metadata": {},
   "source": [
    "If you like the good old methods that provide you with saveguards and checks when creating, then, they're all there. \n",
    "\n",
    "```\n",
    "When developed, the library **never** overrides a method that was shipped with `pathlib.Path`\n",
    "```\n"
   ]
  },
  {
   "cell_type": "code",
   "execution_count": 29,
   "metadata": {},
   "outputs": [
    {
     "ename": "FileExistsError",
     "evalue": "[Errno 17] File exists: 'folder/subfolder/subsubfolder/file.txt'",
     "output_type": "error",
     "traceback": [
      "\u001b[0;31m---------------------------------------------------------------------------\u001b[0m",
      "\u001b[0;31mFileExistsError\u001b[0m                           Traceback (most recent call last)",
      "\u001b[0;32m<ipython-input-29-d08acdec7b0a>\u001b[0m in \u001b[0;36m<module>\u001b[0;34m\u001b[0m\n\u001b[0;32m----> 1\u001b[0;31m \u001b[0mh\u001b[0m\u001b[0;34m.\u001b[0m\u001b[0mmkdir\u001b[0m\u001b[0;34m(\u001b[0m\u001b[0;34m)\u001b[0m\u001b[0;34m\u001b[0m\u001b[0;34m\u001b[0m\u001b[0m\n\u001b[0m",
      "\u001b[0;32m~/anaconda3/envs/myenv/lib/python3.8/pathlib.py\u001b[0m in \u001b[0;36mmkdir\u001b[0;34m(self, mode, parents, exist_ok)\u001b[0m\n\u001b[1;32m   1282\u001b[0m             \u001b[0mself\u001b[0m\u001b[0;34m.\u001b[0m\u001b[0m_raise_closed\u001b[0m\u001b[0;34m(\u001b[0m\u001b[0;34m)\u001b[0m\u001b[0;34m\u001b[0m\u001b[0;34m\u001b[0m\u001b[0m\n\u001b[1;32m   1283\u001b[0m         \u001b[0;32mtry\u001b[0m\u001b[0;34m:\u001b[0m\u001b[0;34m\u001b[0m\u001b[0;34m\u001b[0m\u001b[0m\n\u001b[0;32m-> 1284\u001b[0;31m             \u001b[0mself\u001b[0m\u001b[0;34m.\u001b[0m\u001b[0m_accessor\u001b[0m\u001b[0;34m.\u001b[0m\u001b[0mmkdir\u001b[0m\u001b[0;34m(\u001b[0m\u001b[0mself\u001b[0m\u001b[0;34m,\u001b[0m \u001b[0mmode\u001b[0m\u001b[0;34m)\u001b[0m\u001b[0;34m\u001b[0m\u001b[0;34m\u001b[0m\u001b[0m\n\u001b[0m\u001b[1;32m   1285\u001b[0m         \u001b[0;32mexcept\u001b[0m \u001b[0mFileNotFoundError\u001b[0m\u001b[0;34m:\u001b[0m\u001b[0;34m\u001b[0m\u001b[0;34m\u001b[0m\u001b[0m\n\u001b[1;32m   1286\u001b[0m             \u001b[0;32mif\u001b[0m \u001b[0;32mnot\u001b[0m \u001b[0mparents\u001b[0m \u001b[0;32mor\u001b[0m \u001b[0mself\u001b[0m\u001b[0;34m.\u001b[0m\u001b[0mparent\u001b[0m \u001b[0;34m==\u001b[0m \u001b[0mself\u001b[0m\u001b[0;34m:\u001b[0m\u001b[0;34m\u001b[0m\u001b[0;34m\u001b[0m\u001b[0m\n",
      "\u001b[0;31mFileExistsError\u001b[0m: [Errno 17] File exists: 'folder/subfolder/subsubfolder/file.txt'"
     ]
    }
   ],
   "source": [
    "h.mkdir()"
   ]
  },
  {
   "cell_type": "markdown",
   "metadata": {},
   "source": [
    "Do you like that error above? There you go. Thats the good old `mkdir`"
   ]
  },
  {
   "cell_type": "markdown",
   "metadata": {},
   "source": [
    "In a similar fahshion you will find the following:\n",
    "\n",
    "* `delete` will give easy time compared to the existing `unlink` and `rmdir` and other methods.\n",
    "  This will simply **delete**, no matter what, is it a folder? is it a file? is it empty if it is a folder?\n",
    "    don't worry about anything. Just delete\n",
    "    \n",
    "    * There is also `move2trash` from the famouse `move2trash` which sends files to recycle bin.\n",
    "        \n",
    "* `create` is an easy way to do `mkdir` doesn't compain about existence and always creates the childers and parents required.\n",
    "\n",
    "* `search` is an powerful and easy form of `glob` which still exists."
   ]
  },
  {
   "cell_type": "code",
   "execution_count": 3,
   "metadata": {},
   "outputs": [
    {
     "ename": "NameError",
     "evalue": "name 'h' is not defined",
     "output_type": "error",
     "traceback": [
      "\u001b[0;31m---------------------------------------------------------------------------\u001b[0m",
      "\u001b[0;31mNameError\u001b[0m                                 Traceback (most recent call last)",
      "\u001b[0;32m<ipython-input-3-c968808b802c>\u001b[0m in \u001b[0;36m<module>\u001b[0;34m\u001b[0m\n\u001b[1;32m      1\u001b[0m \u001b[0;31m## Overloading operations\u001b[0m\u001b[0;34m\u001b[0m\u001b[0;34m\u001b[0m\u001b[0;34m\u001b[0m\u001b[0m\n\u001b[1;32m      2\u001b[0m \u001b[0;31m# plus symbol:\u001b[0m\u001b[0;34m\u001b[0m\u001b[0;34m\u001b[0m\u001b[0;34m\u001b[0m\u001b[0m\n\u001b[0;32m----> 3\u001b[0;31m \u001b[0mprint\u001b[0m\u001b[0;34m(\u001b[0m\u001b[0mh\u001b[0m \u001b[0;34m+\u001b[0m \u001b[0;34m\"new\"\u001b[0m\u001b[0;34m)\u001b[0m\u001b[0;34m\u001b[0m\u001b[0;34m\u001b[0m\u001b[0m\n\u001b[0m\u001b[1;32m      4\u001b[0m \u001b[0;34m\u001b[0m\u001b[0m\n",
      "\u001b[0;31mNameError\u001b[0m: name 'h' is not defined"
     ]
    }
   ],
   "source": [
    "## Overloading operations \n",
    "# plus symbol:\n",
    "print(h + \"new\")\n",
    "\n"
   ]
  },
  {
   "cell_type": "code",
   "execution_count": null,
   "metadata": {},
   "outputs": [],
   "source": [
    "# Forward slash OPERATOR:\n",
    "h = h / \"haha\"\n",
    "# Note: this is not the same as the stupid\n",
    "h = h + \"/\" + \"haha\"\n",
    "# it is actually the same as \n",
    "h.joinpath(\"haha\")"
   ]
  },
  {
   "cell_type": "markdown",
   "metadata": {},
   "source": [
    "### Conclusion \n",
    "\n",
    "Have a looksee at the full list of metods:\n",
    "Basically you have comprehensive metods to do any of:\n",
    "\n",
    "* Path manipulation.\n",
    "* Searching directories.\n",
    "* Getting files and folders specs, e.g. size and time etc.\n",
    "* File manangement capabilities, e.g. delete, copy, compression of files and folders with one line, to anywhere.\n",
    "\n",
    "Take 30 seconds to inspect the names of the methods, and they will jump to your mind whenevr you need them later.\n"
   ]
  },
  {
   "cell_type": "code",
   "execution_count": 4,
   "metadata": {},
   "outputs": [
    {
     "data": {
      "text/plain": [
       "['_accessor',\n",
       " '_cached_cparts',\n",
       " '_closed',\n",
       " '_cparts',\n",
       " '_drv',\n",
       " '_flavour',\n",
       " '_format_parsed_parts',\n",
       " '_from_parsed_parts',\n",
       " '_from_parts',\n",
       " '_hash',\n",
       " '_init',\n",
       " '_make_child',\n",
       " '_make_child_relpath',\n",
       " '_opener',\n",
       " '_parse_args',\n",
       " '_parts',\n",
       " '_pparts',\n",
       " '_raise_closed',\n",
       " '_raw_open',\n",
       " '_root',\n",
       " '_str',\n",
       " 'absolute',\n",
       " 'absolute_from',\n",
       " 'anchor',\n",
       " 'append',\n",
       " 'as_posix',\n",
       " 'as_unix',\n",
       " 'as_uri',\n",
       " 'browse',\n",
       " 'chmod',\n",
       " 'clean',\n",
       " 'compress',\n",
       " 'copy',\n",
       " 'create',\n",
       " 'cwd',\n",
       " 'decompress',\n",
       " 'delete',\n",
       " 'drive',\n",
       " 'evalstr',\n",
       " 'exists',\n",
       " 'expanduser',\n",
       " 'explore',\n",
       " 'find',\n",
       " 'from_saved',\n",
       " 'get_attributes',\n",
       " 'get_num',\n",
       " 'get_random_string',\n",
       " 'glob',\n",
       " 'group',\n",
       " 'home',\n",
       " 'is_absolute',\n",
       " 'is_block_device',\n",
       " 'is_char_device',\n",
       " 'is_dir',\n",
       " 'is_fifo',\n",
       " 'is_file',\n",
       " 'is_mount',\n",
       " 'is_reserved',\n",
       " 'is_socket',\n",
       " 'is_symlink',\n",
       " 'iterdir',\n",
       " 'joinpath',\n",
       " 'lchmod',\n",
       " 'len',\n",
       " 'link_to',\n",
       " 'listdir',\n",
       " 'lstat',\n",
       " 'make_valid_filename',\n",
       " 'make_valid_filename_',\n",
       " 'match',\n",
       " 'mkdir',\n",
       " 'move',\n",
       " 'name',\n",
       " 'open',\n",
       " 'owner',\n",
       " 'parent',\n",
       " 'parents',\n",
       " 'parts',\n",
       " 'prepend',\n",
       " 'read_bytes',\n",
       " 'read_text',\n",
       " 'readit',\n",
       " 'relative_to',\n",
       " 'rename',\n",
       " 'renameit',\n",
       " 'replace',\n",
       " 'resolve',\n",
       " 'rglob',\n",
       " 'rmdir',\n",
       " 'root',\n",
       " 'samefile',\n",
       " 'save_json',\n",
       " 'save_mat',\n",
       " 'save_npy',\n",
       " 'save_pickle',\n",
       " 'search',\n",
       " 'send2trash',\n",
       " 'setitem',\n",
       " 'size',\n",
       " 'split',\n",
       " 'stat',\n",
       " 'stem',\n",
       " 'string',\n",
       " 'suffix',\n",
       " 'suffixes',\n",
       " 'symlink_to',\n",
       " 'time',\n",
       " 'tmp',\n",
       " 'touch',\n",
       " 'trunk',\n",
       " 'unlink',\n",
       " 'unzip',\n",
       " 'with_name',\n",
       " 'with_suffix',\n",
       " 'write_bytes',\n",
       " 'write_text',\n",
       " 'zip']"
      ]
     },
     "execution_count": 4,
     "metadata": {},
     "output_type": "execute_result"
    }
   ],
   "source": [
    "h.get_attributes()"
   ]
  },
  {
   "cell_type": "markdown",
   "metadata": {},
   "source": [
    "Last but not least\n",
    "tb.P.tmp` is an exredibly useful"
   ]
  },
  {
   "cell_type": "markdown",
   "metadata": {},
   "source": []
  },
  {
   "cell_type": "markdown",
   "metadata": {},
   "source": [
    "# The Struct Module"
   ]
  },
  {
   "cell_type": "markdown",
   "metadata": {},
   "source": [
    "# The List Module"
   ]
  },
  {
   "cell_type": "code",
   "execution_count": null,
   "metadata": {},
   "outputs": [],
   "source": []
  }
 ],
 "metadata": {
  "kernelspec": {
   "display_name": "Python 3",
   "language": "python",
   "name": "python3"
  },
  "language_info": {
   "codemirror_mode": {
    "name": "ipython",
    "version": 3
   },
   "file_extension": ".py",
   "mimetype": "text/x-python",
   "name": "python",
   "nbconvert_exporter": "python",
   "pygments_lexer": "ipython3",
   "version": "3.8.5"
  }
 },
 "nbformat": 4,
 "nbformat_minor": 4
}
